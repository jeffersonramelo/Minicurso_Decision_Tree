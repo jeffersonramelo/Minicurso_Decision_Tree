{
  "nbformat": 4,
  "nbformat_minor": 0,
  "metadata": {
    "colab": {
      "provenance": [],
      "authorship_tag": "ABX9TyNRINhU0DW/HF8fqumsPlT/",
      "include_colab_link": true
    },
    "kernelspec": {
      "name": "python3",
      "display_name": "Python 3"
    },
    "language_info": {
      "name": "python"
    }
  },
  "cells": [
    {
      "cell_type": "markdown",
      "metadata": {
        "id": "view-in-github",
        "colab_type": "text"
      },
      "source": [
        "<a href=\"https://colab.research.google.com/github/jeffersonramelo/Minicurso_Decision_Tree/blob/main/Arvore_dados_Michell_97.ipynb\" target=\"_parent\"><img src=\"https://colab.research.google.com/assets/colab-badge.svg\" alt=\"Open In Colab\"/></a>"
      ]
    },
    {
      "cell_type": "code",
      "source": [
        "import pandas as pd\n",
        "from sklearn.tree import DecisionTreeClassifier\n",
        "from sklearn import tree\n",
        "import matplotlib.pyplot as plt\n",
        "\n",
        "# Ler o arquivo CSV com a codificação apropriada\n",
        "file_path = '/content/Dados Michell 1997.csv'\n",
        "df = pd.read_csv(file_path, encoding='latin1')  # Tente 'latin1' se 'utf-8' falhar\n",
        "\n",
        "# Exibir o dataframe\n",
        "print(df)\n",
        "\n",
        "# Separar as características (X) e a variável alvo (y)\n",
        "X = df.drop(columns=[\"Dia\", \"Jogar_Tênis\"])\n",
        "y = df[\"Jogar_Tênis\"]\n",
        "\n"
      ],
      "metadata": {
        "colab": {
          "base_uri": "https://localhost:8080/"
        },
        "id": "ggbVZoD1dT8l",
        "outputId": "4dce232d-4293-47b1-d59d-741d74aa760d"
      },
      "execution_count": 1,
      "outputs": [
        {
          "output_type": "stream",
          "name": "stdout",
          "text": [
            "    Dia       Tempo Temperatura Humidade  Vento Jogar_Tênis\n",
            "0    D1  Ensolarado      Quente     Alta  Fraco         Não\n",
            "1    D2  Ensolarado      Quente     Alta  Forte         Não\n",
            "2    D3     Nublado      Quente     Alta  Fraco         Sim\n",
            "3    D4     Chuvoso    Moderada     Alta  Fraco         Sim\n",
            "4    D5     Chuvoso        Fria   Normal  Fraco         Sim\n",
            "5    D6     Chuvoso        Fria   Normal  Forte         Não\n",
            "6    D7     Nublado        Fria   Normal  Forte         Sim\n",
            "7    D8  Ensolarado    Moderada     Alta  Fraco         Não\n",
            "8    D9  Ensolarado        Fria   Normal  Fraco         Sim\n",
            "9   D10     Chuvoso    Moderada   Normal  Fraco         Sim\n",
            "10  D11  Ensolarado    Moderada   Normal  Forte         Sim\n",
            "11  D12     Nublado    Moderada     Alta  Forte         Sim\n",
            "12  D13     Nublado      Quente   Normal  Fraco         Sim\n",
            "13  D14     Chuvoso    Moderada     Alta  Forte         Não\n"
          ]
        }
      ]
    },
    {
      "cell_type": "code",
      "source": [
        "import numpy as np\n",
        "\n",
        "# Função para calcular a entropia\n",
        "def calcular_entropia(proporcoes):\n",
        "    return -np.sum(proporcoes * np.log2(proporcoes))\n",
        "\n",
        "# Contar as instâncias de cada classe\n",
        "class_counts = y.value_counts()\n",
        "\n",
        "# Calcular a proporção de cada classe\n",
        "total_instances = len(y)\n",
        "proporcoes = class_counts / total_instances\n",
        "\n",
        "# Calcular a entropia\n",
        "entropia_geral = calcular_entropia(proporcoes)\n",
        "print(\"Entropia geral do conjunto de dados:\", entropia_geral)\n"
      ],
      "metadata": {
        "colab": {
          "base_uri": "https://localhost:8080/"
        },
        "id": "vfRrhhxu-eMl",
        "outputId": "2ba0817b-f229-4065-d2a0-737db79d86c4"
      },
      "execution_count": 2,
      "outputs": [
        {
          "output_type": "stream",
          "name": "stdout",
          "text": [
            "Entropia geral do conjunto de dados: 0.9402859586706311\n"
          ]
        }
      ]
    },
    {
      "cell_type": "code",
      "source": [
        "import numpy as np\n",
        "import pandas as pd\n",
        "\n",
        "# Função para calcular a entropia\n",
        "def calcular_entropia(proporcoes):\n",
        "    proporcoes = proporcoes[proporcoes > 0]  # remover proporções zero\n",
        "    return -np.sum(proporcoes * np.log2(proporcoes))\n",
        "\n",
        "# Ler o arquivo CSV com a codificação apropriada\n",
        "file_path = '/content/Dados Michell 1997.csv'\n",
        "df = pd.read_csv(file_path, encoding='latin1')\n",
        "\n",
        "# Separar a variável alvo\n",
        "y = df[\"Jogar_Tênis\"]\n",
        "\n",
        "# Calcular a entropia inicial\n",
        "class_counts = y.value_counts()\n",
        "total_instances = len(y)\n",
        "proporcao_positivas = class_counts['Sim'] / total_instances\n",
        "proporcao_negativas = class_counts['Não'] / total_instances\n",
        "entropia_inicial = calcular_entropia(np.array([proporcao_positivas, proporcao_negativas]))\n",
        "\n",
        "print(\"Entropia inicial:\", entropia_inicial)\n",
        "\n",
        "# Função para calcular o ganho de informação\n",
        "def ganho_informacao(df, atributo, alvo):\n",
        "    valores = df[atributo].unique()\n",
        "    entropia_condicional = 0\n",
        "    for valor in valores:\n",
        "        subset = df[df[atributo] == valor][alvo].value_counts(normalize=True)\n",
        "        entropia_subset = calcular_entropia(subset.values)\n",
        "        entropia_condicional += (subset.sum() / total_instances) * entropia_subset\n",
        "    return entropia_inicial - entropia_condicional\n",
        "\n",
        "# Calcular o ganho de informação para cada variável\n",
        "variaveis = [\"Tempo\", \"Temperatura\", \"Humidade\", \"Vento\"]\n",
        "ganhos_informacao = {var: ganho_informacao(df, var, \"Jogar_Tênis\") for var in variaveis}\n",
        "\n",
        "print(\"Ganhos de Informação para cada variável:\")\n",
        "for var, ganho in ganhos_informacao.items():\n",
        "    print(f\"{var}: {ganho}\")\n"
      ],
      "metadata": {
        "colab": {
          "base_uri": "https://localhost:8080/"
        },
        "id": "g813DKgGMFDD",
        "outputId": "09927562-e684-4403-d6c6-05f0ff8ab068"
      },
      "execution_count": 5,
      "outputs": [
        {
          "output_type": "stream",
          "name": "stdout",
          "text": [
            "Entropia inicial: 0.9402859586706311\n",
            "Ganhos de Informação para cada variável:\n",
            "Tempo: 0.8015787308913928\n",
            "Temperatura: 0.7453163902053724\n",
            "Humidade: 0.8276501790551613\n",
            "Vento: 0.8109089497806931\n"
          ]
        }
      ]
    }
  ]
}